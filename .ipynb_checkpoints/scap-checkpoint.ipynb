{
 "cells": [
  {
   "cell_type": "code",
   "execution_count": 16,
   "metadata": {},
   "outputs": [],
   "source": [
    "import os\n",
    "from bs4 import BeautifulSoup\n",
    "import json\n",
    "import re\n",
    "import requests\n",
    "from python_graphql_client import GraphqlClient\n",
    "import time\n",
    "import pandas as pd\n",
    "import datetime\n",
    "import re\n",
    "import numpy as np\n",
    "from collections import Counter\n",
    "from multiprocessing import Pool\n",
    "from calendar import monthrange"
   ]
  },
  {
   "cell_type": "code",
   "execution_count": 2,
   "metadata": {},
   "outputs": [],
   "source": [
    "client = GraphqlClient(endpoint=\"https://medium.com/_/graphql\")"
   ]
  },
  {
   "cell_type": "code",
   "execution_count": 14,
   "metadata": {},
   "outputs": [],
   "source": [
    "query = \"query TopicHandler($topicSlug: ID!, $feedPagingOptions: PagingOptions, $sidebarPagingOptions: PagingOptions) {\\n  topic(slug: $topicSlug) {\\n    canonicalSlug\\n    ...TopicScreen_topic\\n    __typename\\n  }\\n}\\n\\nfragment PostListingItemFeed_postPreview on PostPreview {\\n  post {\\n    ...PostListingItemPreview_post\\n    ...PostListingItemByline_post\\n    ...PostListingItemImage_post\\n    ...PostPresentationTracker_post\\n    __typename\\n  }\\n  __typename\\n}\\n\\nfragment PostListingItemPreview_post on Post {\\n  id\\n  mediumUrl\\n  title\\n  previewContent {\\n    subtitle\\n    isFullContent\\n    __typename\\n  }\\n  isPublished\\n  creator {\\n    id\\n    __typename\\n  }\\n  __typename\\n}\\n\\nfragment PostListingItemByline_post on Post {\\n  id\\n  creator {\\n    id\\n    username\\n    name\\n    __typename\\n  }\\n  isLocked\\n  readingTime\\n  ...BookmarkButton_post\\n  firstPublishedAt\\n  updatedAt\\n statusForCollection\\n  collection {\\n    id\\n    name\\n    ...collectionUrl_collection\\n    __typename\\n  }\\n  __typename\\n}\\n\\nfragment BookmarkButton_post on Post {\\n  ...SusiClickable_post\\n  ...WithSetReadingList_post\\n  __typename\\n}\\n\\nfragment SusiClickable_post on Post {\\n  id\\n  mediumUrl\\n  ...SusiContainer_post\\n  __typename\\n}\\n\\nfragment SusiContainer_post on Post {\\n  id\\n  __typename\\n}\\n\\nfragment WithSetReadingList_post on Post {\\n  ...ReadingList_post\\n  __typename\\n}\\n\\nfragment ReadingList_post on Post {\\n  __typename\\n  id\\n  readingList\\n}\\n\\nfragment collectionUrl_collection on Collection {\\n  id\\n  domain\\n  slug\\n  __typename\\n}\\n\\nfragment PostListingItemImage_post on Post {\\n  id\\n  mediumUrl\\n  previewImage {\\n    id\\n    focusPercentX\\n    focusPercentY\\n    __typename\\n  }\\n  __typename\\n}\\n\\nfragment PostPresentationTracker_post on Post {\\n  id\\n  visibility\\n  previewContent {\\n    isFullContent\\n    __typename\\n  }\\n  collection {\\n    id\\n    __typename\\n  }\\n  __typename\\n}\\n\\nfragment TopicScreen_topic on Topic {\\n  id\\n  ...TopicMetadata_topic\\n  ...TopicLandingHeader_topic\\n  ...TopicFeaturedAndLatest_topic\\n  ...TopicLandingRelatedTopics_topic\\n  ...TopicLandingPopular_posts\\n  __typename\\n}\\n\\nfragment TopicMetadata_topic on Topic {\\n  name\\n  description\\n  slug\\n  image {\\n    id\\n    __typename\\n  }\\n  __typename\\n}\\n\\nfragment TopicLandingHeader_topic on Topic {\\n  name\\n  description\\n  visibility\\n  ...TopicFollowButtonSignedIn_topic\\n  ...TopicFollowButtonSignedOut_topic\\n  __typename\\n}\\n\\nfragment TopicFollowButtonSignedIn_topic on Topic {\\n  __typename\\n  slug\\n  isFollowing\\n}\\n\\nfragment TopicFollowButtonSignedOut_topic on Topic {\\n  id\\n  slug\\n  ...SusiClickable_topic\\n  __typename\\n}\\n\\nfragment SusiClickable_topic on Topic {\\n  ...SusiContainer_topic\\n  __typename\\n}\\n\\nfragment SusiContainer_topic on Topic {\\n  ...SignInOptions_topic\\n  ...SignUpOptions_topic\\n  __typename\\n}\\n\\nfragment SignInOptions_topic on Topic {\\n  id\\n  name\\n  __typename\\n}\\n\\nfragment SignUpOptions_topic on Topic {\\n  id\\n  name\\n  __typename\\n}\\n\\nfragment TopicFeaturedAndLatest_topic on Topic {\\n  name\\n  slug\\n  featuredPosts {\\n    postPreviews {\\n      post {\\n        id\\n        ...TopicLandingFeaturedStory_post\\n        __typename\\n      }\\n      __typename\\n    }\\n    __typename\\n  }\\n  featuredTopicWriters(limit: 1) {\\n    ...FeaturedWriter_featuredTopicWriter\\n    __typename\\n  }\\n  latestPosts(paging: $feedPagingOptions) {\\n    postPreviews {\\n      post {\\n        id\\n        __typename\\n      }\\n      ...PostListingItemFeed_postPreview\\n      __typename\\n    }\\n    pagingInfo {\\n      next {\\n        limit\\n        to\\n        __typename\\n      }\\n      __typename\\n    }\\n    __typename\\n  }\\n  __typename\\n}\\n\\nfragment TopicLandingFeaturedStory_post on Post {\\n  ...FeaturedPostPreview_post\\n  ...PostListingItemPreview_post\\n  ...PostListingItemBylineWithAvatar_post\\n  ...PostListingItemImage_post\\n  ...PostPresentationTracker_post\\n  __typename\\n}\\n\\nfragment FeaturedPostPreview_post on Post {\\n  id\\n  title\\n  mediumUrl\\n  previewContent {\\n    subtitle\\n    isFullContent\\n    __typename\\n  }\\n  __typename\\n}\\n\\nfragment PostListingItemBylineWithAvatar_post on Post {\\n  creator {\\n    username\\n    name\\n    id\\n    imageId\\n    mediumMemberAt\\n    __typename\\n  }\\n  isLocked\\n  readingTime\\n  updatedAt\\n  statusForCollection\\n  collection {\\n    id\\n    name\\n    ...collectionUrl_collection\\n    __typename\\n  }\\n  __typename\\n}\\n\\nfragment FeaturedWriter_featuredTopicWriter on FeaturedTopicWriter {\\n  user {\\n    id\\n    username\\n    name\\n    bio\\n    ...UserAvatar_user\\n    ...UserFollowButton_user\\n    __typename\\n  }\\n  posts {\\n    postPreviews {\\n      ...PostListingItemFeaturedWriter_postPreview\\n      __typename\\n    }\\n    __typename\\n  }\\n  __typename\\n}\\n\\nfragment UserAvatar_user on User {\\n  username\\n  id\\n  name\\n  imageId\\n  mediumMemberAt\\n  __typename\\n}\\n\\nfragment UserFollowButton_user on User {\\n  ...UserFollowButtonSignedIn_user\\n  ...UserFollowButtonSignedOut_user\\n  __typename\\n}\\n\\nfragment UserFollowButtonSignedIn_user on User {\\n  id\\n  isFollowing\\n  __typename\\n}\\n\\nfragment UserFollowButtonSignedOut_user on User {\\n  id\\n  ...SusiClickable_user\\n  __typename\\n}\\n\\nfragment SusiClickable_user on User {\\n  ...SusiContainer_user\\n  __typename\\n}\\n\\nfragment SusiContainer_user on User {\\n  ...SignInOptions_user\\n  ...SignUpOptions_user\\n  __typename\\n}\\n\\nfragment SignInOptions_user on User {\\n  id\\n  name\\n  __typename\\n}\\n\\nfragment SignUpOptions_user on User {\\n  id\\n  name\\n  __typename\\n}\\n\\nfragment PostListingItemFeaturedWriter_postPreview on PostPreview {\\n  postId\\n  post {\\n    readingTime\\n    id\\n    mediumUrl\\n    title\\n    ...PostListingItemImage_post\\n    ...PostPresentationTracker_post\\n    __typename\\n  }\\n  __typename\\n}\\n\\nfragment TopicLandingRelatedTopics_topic on Topic {\\n  relatedTopics {\\n    topic {\\n      name\\n      slug\\n      __typename\\n    }\\n    __typename\\n  }\\n  __typename\\n}\\n\\nfragment TopicLandingPopular_posts on Topic {\\n  name\\n  popularPosts(paging: $sidebarPagingOptions) {\\n    postPreviews {\\n      post {\\n        ...PostListingItemSidebar_post\\n        __typename\\n      }\\n      __typename\\n    }\\n    __typename\\n  }\\n  __typename\\n}\\n\\nfragment PostListingItemSidebar_post on Post {\\n  id\\n  mediumUrl\\n  title\\n  readingTime\\n  ...PostListingItemImage_post\\n  ...PostPresentationTracker_post\\n  __typename\\n}\\n\"\n",
    "\n",
    "variables = {\"topicSlug\": \"popular\", \"feedPagingOptions\": {\"limit\": 25, \"to\": f\"{int(time.time()*1000)}\"}, \"sidebarPagingOptions\": {\"limit\": 5}}"
   ]
  },
  {
   "cell_type": "code",
   "execution_count": 15,
   "metadata": {
    "tags": [
     "outputPrepend"
    ]
   },
   "outputs": [],
   "source": [
    "data = client.execute(query=query, variables=variables)"
   ]
  },
  {
   "cell_type": "code",
   "execution_count": 74,
   "metadata": {},
   "outputs": [
    {
     "name": "stdout",
     "output_type": "stream",
     "text": [
      "1590519164019 - The Future of Movie Theaters Might Look a Lot Like an Apple Store - https://onezero.medium.com/the-future-of-movie-theaters-might-look-a-lot-like-an-apple-store-185c941d02a5\n",
      "1589979986031 - Inside the Flour Company Supplying America’s Sudden Baking Obsession - https://marker.medium.com/inside-the-flour-company-supplying-americas-sudden-baking-obsession-623034583579\n",
      "1590514172208 - Our Economy Was Just Blasted Years Into the Future - https://marker.medium.com/our-economy-was-just-blasted-years-into-the-future-a591fbba2298\n",
      "1590471061357 - The Unique Frustration of Being Black and in Charge - https://level.medium.com/the-unique-frustration-of-being-black-and-in-charge-c1026bb5a9b3\n",
      "1590384662134 - How Your Brain Prevents You From Getting Sick - https://elemental.medium.com/how-your-brain-prevents-you-from-getting-sick-201d8263344\n",
      "1590384661084 - A Decision-Making Framework for Re-Entering the World - https://forge.medium.com/a-decision-making-framework-for-re-entering-the-world-f3e2c6af883a\n",
      "1590190860889 - Brazil’s Covid-19 Crisis Shows What Will Happen if the U.S. Relaxes All Social Distancing Standards - https://coronavirus.medium.com/brazils-covid-19-crisis-shows-what-will-happen-if-the-us-relaxes-all-social-distancing-standards-b91380a367a\n",
      "1590169210045 - Social Distancing Is Not Enough - https://medium.com/the-atlantic/social-distancing-is-not-enough-5c56e9301304\n",
      "1590507346217 - My Journey Toward Radical Body Positivity - https://humanparts.medium.com/my-journey-toward-radical-body-positivity-3412796df8ff\n",
      "1590172851087 - How to Write Anything - https://forge.medium.com/how-to-write-anything-ad2a62c122f6\n"
     ]
    }
   ],
   "source": [
    "for post in data[\"data\"][\"topic\"][\"featuredPosts\"][\"postPreviews\"]:\n",
    "    print(f\"{post['post']['updatedAt']} - {post['post']['title']} - {post['post']['mediumUrl']}\")"
   ]
  },
  {
   "cell_type": "code",
   "execution_count": 85,
   "metadata": {},
   "outputs": [],
   "source": [
    "def get_posts(data, posts):\n",
    "    for post in data[\"data\"][\"topic\"][\"latestPosts\"][\"postPreviews\"]:\n",
    "        title = \"\"\n",
    "        author = \"\"\n",
    "        author_username = \"\"\n",
    "        url = \"\"\n",
    "        domain = \"\"\n",
    "\n",
    "        if 'title' in post['post']:\n",
    "            title = post['post']['title']\n",
    "        if 'creator' in  post['post']:\n",
    "            creator = post['post']['creator'] or []\n",
    "            if 'username' in creator:\n",
    "                author = post['post']['creator']['name']\n",
    "                author_username = post['post']['creator']['username']\n",
    "        if 'mediumUrl' in post['post']:\n",
    "            url = post['post']['mediumUrl']\n",
    "        if 'collection' in post['post']:\n",
    "            collection = post['post']['collection'] or []\n",
    "            if 'domain' in collection:\n",
    "                domain = post['post']['collection']['domain']\n",
    "        post = {\n",
    "            \"title\": title, \n",
    "            \"author\": author,\n",
    "            \"author_username\": author_username,\n",
    "            \"url\": url,\n",
    "            \"domain\": domain\n",
    "        }\n",
    "        if post not in posts:\n",
    "            posts.append(post)\n",
    "    return posts"
   ]
  },
  {
   "cell_type": "code",
   "execution_count": 86,
   "metadata": {},
   "outputs": [],
   "source": [
    "posts = []\n",
    "nb_h_per_day = 6\n",
    "for i in range(365 * 24 // nb_h_per_day):\n",
    "    variables = {\"topicSlug\": \"popular\", \"feedPagingOptions\": {\"limit\": 25, \"to\": f\"{int(time.time() * 1000) - 3600000 * nb_h_per_day * i}\"}, \"sidebarPagingOptions\": {\"limit\": 1}}\n",
    "    data = client.execute(query=query, variables=variables)\n",
    "    posts = get_posts(data, posts)"
   ]
  },
  {
   "cell_type": "code",
   "execution_count": 7,
   "metadata": {},
   "outputs": [],
   "source": [
    "def convert_to_num(s):\n",
    "    if isinstance(s, int):\n",
    "        return s\n",
    "    elif 'K' in s:\n",
    "        return int(1000 * float(s.replace('K','')))\n",
    "    else:\n",
    "        return int(s)"
   ]
  },
  {
   "cell_type": "code",
   "execution_count": null,
   "metadata": {},
   "outputs": [],
   "source": [
    "for post in posts:\n",
    "    post['tag'] = []\n",
    "    post['claps'] = -1\n",
    "    try:\n",
    "        r = requests.get(post['url'])\n",
    "    except:\n",
    "        print(post['url'])\n",
    "        continue\n",
    "    soup = BeautifulSoup(r.text)\n",
    "    # tags\n",
    "    hrefs = soup.findAll('a', href=True)\n",
    "    for href in hrefs:\n",
    "        res = re.search(\"^/tagged/(.*)\", href['href'])\n",
    "        if res:\n",
    "            post['tag'].append(res.group(1))\n",
    "    # claps\n",
    "    buttons = soup.findAll('button')\n",
    "    for i, button in enumerate(buttons):\n",
    "        res = re.search(\"(.*) claps\", button.text)\n",
    "        if res:\n",
    "            post['claps'] = convert_to_num(res.group(1))"
   ]
  },
  {
   "cell_type": "code",
   "execution_count": 55,
   "metadata": {},
   "outputs": [],
   "source": [
    "with open('data.json', \"w\") as f:\n",
    "    json.dump(posts, f)"
   ]
  },
  {
   "cell_type": "code",
   "execution_count": 4,
   "metadata": {},
   "outputs": [],
   "source": [
    "with open('data.json', \"r\") as f:\n",
    "    posts = json.load(f)"
   ]
  },
  {
   "cell_type": "code",
   "execution_count": 5,
   "metadata": {},
   "outputs": [
    {
     "data": {
      "text/html": [
       "<div>\n",
       "<style scoped>\n",
       "    .dataframe tbody tr th:only-of-type {\n",
       "        vertical-align: middle;\n",
       "    }\n",
       "\n",
       "    .dataframe tbody tr th {\n",
       "        vertical-align: top;\n",
       "    }\n",
       "\n",
       "    .dataframe thead th {\n",
       "        text-align: right;\n",
       "    }\n",
       "</style>\n",
       "<table border=\"1\" class=\"dataframe\">\n",
       "  <thead>\n",
       "    <tr style=\"text-align: right;\">\n",
       "      <th></th>\n",
       "      <th>title</th>\n",
       "      <th>author</th>\n",
       "      <th>author_username</th>\n",
       "      <th>url</th>\n",
       "      <th>domain</th>\n",
       "      <th>tag</th>\n",
       "      <th>claps</th>\n",
       "    </tr>\n",
       "  </thead>\n",
       "  <tbody>\n",
       "    <tr>\n",
       "      <th>0</th>\n",
       "      <td>The Future of Movie Theaters Might Look a Lot ...</td>\n",
       "      <td>Eric Ravenscraft</td>\n",
       "      <td>lordravenscraft_50708</td>\n",
       "      <td>https://onezero.medium.com/the-future-of-movie...</td>\n",
       "      <td>onezero.medium.com</td>\n",
       "      <td>[amc, movies, amazon, netflix, apple]</td>\n",
       "      <td>1.5K</td>\n",
       "    </tr>\n",
       "    <tr>\n",
       "      <th>1</th>\n",
       "      <td>Inside the Flour Company Supplying America’s S...</td>\n",
       "      <td>David H. Freedman</td>\n",
       "      <td>dhfreedman2</td>\n",
       "      <td>https://marker.medium.com/inside-the-flour-com...</td>\n",
       "      <td>marker.medium.com</td>\n",
       "      <td>[king-arthur-flour, baking, business, consumer]</td>\n",
       "      <td>4.4K</td>\n",
       "    </tr>\n",
       "    <tr>\n",
       "      <th>2</th>\n",
       "      <td>Our Economy Was Just Blasted Years Into the Fu...</td>\n",
       "      <td>Steve LeVine</td>\n",
       "      <td>stevlevine</td>\n",
       "      <td>https://marker.medium.com/our-economy-was-just...</td>\n",
       "      <td>marker.medium.com</td>\n",
       "      <td>[economy, business, society, future, automation]</td>\n",
       "      <td>3.6K</td>\n",
       "    </tr>\n",
       "    <tr>\n",
       "      <th>3</th>\n",
       "      <td>Joe Biden’s Latest “Gaffe” Has Left Me Almost ...</td>\n",
       "      <td>Lauren Martinchek</td>\n",
       "      <td>xLauren_Mx</td>\n",
       "      <td>https://medium.com/discourse/joe-bidens-latest...</td>\n",
       "      <td>None</td>\n",
       "      <td>[]</td>\n",
       "      <td>5.9K</td>\n",
       "    </tr>\n",
       "    <tr>\n",
       "      <th>4</th>\n",
       "      <td>75 Things White People Can Do for Racial Justice</td>\n",
       "      <td>Corinne Shutack</td>\n",
       "      <td>cshutack</td>\n",
       "      <td>https://medium.com/equality-includes-you/what-...</td>\n",
       "      <td>None</td>\n",
       "      <td>[]</td>\n",
       "      <td>13.8K</td>\n",
       "    </tr>\n",
       "  </tbody>\n",
       "</table>\n",
       "</div>"
      ],
      "text/plain": [
       "                                               title             author  \\\n",
       "0  The Future of Movie Theaters Might Look a Lot ...   Eric Ravenscraft   \n",
       "1  Inside the Flour Company Supplying America’s S...  David H. Freedman   \n",
       "2  Our Economy Was Just Blasted Years Into the Fu...       Steve LeVine   \n",
       "3  Joe Biden’s Latest “Gaffe” Has Left Me Almost ...  Lauren Martinchek   \n",
       "4   75 Things White People Can Do for Racial Justice    Corinne Shutack   \n",
       "\n",
       "         author_username                                                url  \\\n",
       "0  lordravenscraft_50708  https://onezero.medium.com/the-future-of-movie...   \n",
       "1            dhfreedman2  https://marker.medium.com/inside-the-flour-com...   \n",
       "2             stevlevine  https://marker.medium.com/our-economy-was-just...   \n",
       "3             xLauren_Mx  https://medium.com/discourse/joe-bidens-latest...   \n",
       "4               cshutack  https://medium.com/equality-includes-you/what-...   \n",
       "\n",
       "               domain                                               tag  claps  \n",
       "0  onezero.medium.com             [amc, movies, amazon, netflix, apple]   1.5K  \n",
       "1   marker.medium.com   [king-arthur-flour, baking, business, consumer]   4.4K  \n",
       "2   marker.medium.com  [economy, business, society, future, automation]   3.6K  \n",
       "3                None                                                []   5.9K  \n",
       "4                None                                                []  13.8K  "
      ]
     },
     "execution_count": 5,
     "metadata": {},
     "output_type": "execute_result"
    }
   ],
   "source": [
    "df = pd.read_json('data.json')\n",
    "df.head()"
   ]
  },
  {
   "cell_type": "code",
   "execution_count": 53,
   "metadata": {},
   "outputs": [],
   "source": [
    "tags = []\n",
    "wtags = []\n",
    "for r,n in zip(df.tag, df.numclaps):\n",
    "    tags.extend(r)\n",
    "    wtags.extend(r * n)"
   ]
  },
  {
   "cell_type": "code",
   "execution_count": 58,
   "metadata": {},
   "outputs": [],
   "source": [
    "unique_tags = np.unique(np.array(tags))"
   ]
  },
  {
   "cell_type": "code",
   "execution_count": 59,
   "metadata": {},
   "outputs": [
    {
     "name": "stdout",
     "output_type": "stream",
     "text": [
      "3019 - 906\n"
     ]
    }
   ],
   "source": [
    "print(f\"{len(tags)} - {len(unique_tags)}\")"
   ]
  },
  {
   "cell_type": "code",
   "execution_count": 54,
   "metadata": {},
   "outputs": [],
   "source": [
    "c = Counter(tags)"
   ]
  },
  {
   "cell_type": "code",
   "execution_count": 55,
   "metadata": {},
   "outputs": [
    {
     "data": {
      "text/plain": [
       "[('health', 107),\n",
       " ('culture', 73),\n",
       " ('coronavirus', 59),\n",
       " ('politics', 53),\n",
       " ('digital-life', 51),\n",
       " ('life', 48),\n",
       " ('industry', 47),\n",
       " ('body', 46),\n",
       " ('technology', 37),\n",
       " ('science', 36),\n",
       " ('tech', 36),\n",
       " ('relationships', 34),\n",
       " ('self-improvement', 33),\n",
       " ('mental-health', 32),\n",
       " ('business', 31),\n",
       " ('self', 31),\n",
       " ('psychology', 30),\n",
       " ('food', 29),\n",
       " ('brain', 28),\n",
       " ('data-science', 28)]"
      ]
     },
     "execution_count": 55,
     "metadata": {},
     "output_type": "execute_result"
    }
   ],
   "source": [
    "c.most_common(20)"
   ]
  },
  {
   "cell_type": "code",
   "execution_count": 56,
   "metadata": {},
   "outputs": [
    {
     "data": {
      "text/plain": [
       "[('life-lessons', 789000),\n",
       " ('life', 784320),\n",
       " ('productivity', 777720),\n",
       " ('health', 737546),\n",
       " ('self-improvement', 658100),\n",
       " ('coronavirus', 645071),\n",
       " ('psychology', 644520),\n",
       " ('politics', 593697),\n",
       " ('mental-health', 538080),\n",
       " ('self', 527500),\n",
       " ('culture', 451832),\n",
       " ('inspiration', 438400),\n",
       " ('relationships', 367020),\n",
       " ('succeed', 320600),\n",
       " ('rethink', 267200),\n",
       " ('body', 266630),\n",
       " ('live', 247100),\n",
       " ('digital-life', 237861),\n",
       " ('economy', 230200),\n",
       " ('industry', 223428)]"
      ]
     },
     "execution_count": 56,
     "metadata": {},
     "output_type": "execute_result"
    }
   ],
   "source": [
    "wc = Counter(wtags)\n",
    "wc.most_common(20)"
   ]
  },
  {
   "cell_type": "code",
   "execution_count": 8,
   "metadata": {},
   "outputs": [],
   "source": [
    "df['num_clap'] = df.claps.apply(convert_to_num)"
   ]
  },
  {
   "cell_type": "code",
   "execution_count": 37,
   "metadata": {},
   "outputs": [
    {
     "data": {
      "text/html": [
       "<div>\n",
       "<style scoped>\n",
       "    .dataframe tbody tr th:only-of-type {\n",
       "        vertical-align: middle;\n",
       "    }\n",
       "\n",
       "    .dataframe tbody tr th {\n",
       "        vertical-align: top;\n",
       "    }\n",
       "\n",
       "    .dataframe thead th {\n",
       "        text-align: right;\n",
       "    }\n",
       "</style>\n",
       "<table border=\"1\" class=\"dataframe\">\n",
       "  <thead>\n",
       "    <tr style=\"text-align: right;\">\n",
       "      <th></th>\n",
       "      <th>title</th>\n",
       "      <th>author</th>\n",
       "      <th>author_username</th>\n",
       "      <th>url</th>\n",
       "      <th>domain</th>\n",
       "      <th>tag</th>\n",
       "      <th>claps</th>\n",
       "      <th>numclaps</th>\n",
       "    </tr>\n",
       "  </thead>\n",
       "  <tbody>\n",
       "    <tr>\n",
       "      <th>25</th>\n",
       "      <td>The Problem Isn’t Zoom Fatigue — It’s Mourning...</td>\n",
       "      <td>Evan Selinger</td>\n",
       "      <td>evanselinger</td>\n",
       "      <td>https://onezero.medium.com/the-problem-isnt-zo...</td>\n",
       "      <td>onezero.medium.com</td>\n",
       "      <td>[video-conferencing, digital-life, culture, zo...</td>\n",
       "      <td>1.2K</td>\n",
       "      <td>1200</td>\n",
       "    </tr>\n",
       "    <tr>\n",
       "      <th>61</th>\n",
       "      <td>The Debate Over Screens and Health is More Con...</td>\n",
       "      <td>Markham Heid</td>\n",
       "      <td>mheidj</td>\n",
       "      <td>https://elemental.medium.com/kids-are-staring-...</td>\n",
       "      <td>elemental.medium.com</td>\n",
       "      <td>[health, science, brain, parenting, technology]</td>\n",
       "      <td>508</td>\n",
       "      <td>508</td>\n",
       "    </tr>\n",
       "    <tr>\n",
       "      <th>69</th>\n",
       "      <td>CEO of Surveillance Firm Banjo Once Helped KKK...</td>\n",
       "      <td>Matt Stroud</td>\n",
       "      <td>stroudjournalism</td>\n",
       "      <td>https://onezero.medium.com/ceo-of-surveillance...</td>\n",
       "      <td>onezero.medium.com</td>\n",
       "      <td>[surveillance, privacy, technology, racism, si...</td>\n",
       "      <td>2.9K</td>\n",
       "      <td>2900</td>\n",
       "    </tr>\n",
       "    <tr>\n",
       "      <th>93</th>\n",
       "      <td>Zoom Is a Nightmare. So Why Is Everyone Still ...</td>\n",
       "      <td>Simon Pitt</td>\n",
       "      <td>simon_pitt</td>\n",
       "      <td>https://onezero.medium.com/zoom-is-a-nightmare...</td>\n",
       "      <td>onezero.medium.com</td>\n",
       "      <td>[zoom, video-conferencing, digital-life, techn...</td>\n",
       "      <td>23K</td>\n",
       "      <td>23000</td>\n",
       "    </tr>\n",
       "    <tr>\n",
       "      <th>97</th>\n",
       "      <td>We Live in the Blue Ruin</td>\n",
       "      <td>Felicia C. Sullivan</td>\n",
       "      <td>felsull</td>\n",
       "      <td>https://humanparts.medium.com/blue-ruin-ab4b6d...</td>\n",
       "      <td>humanparts.medium.com</td>\n",
       "      <td>[fiction, dystopia, internet, technology, cult...</td>\n",
       "      <td>1.3K</td>\n",
       "      <td>1300</td>\n",
       "    </tr>\n",
       "  </tbody>\n",
       "</table>\n",
       "</div>"
      ],
      "text/plain": [
       "                                                title               author  \\\n",
       "25  The Problem Isn’t Zoom Fatigue — It’s Mourning...        Evan Selinger   \n",
       "61  The Debate Over Screens and Health is More Con...         Markham Heid   \n",
       "69  CEO of Surveillance Firm Banjo Once Helped KKK...          Matt Stroud   \n",
       "93  Zoom Is a Nightmare. So Why Is Everyone Still ...           Simon Pitt   \n",
       "97                           We Live in the Blue Ruin  Felicia C. Sullivan   \n",
       "\n",
       "     author_username                                                url  \\\n",
       "25      evanselinger  https://onezero.medium.com/the-problem-isnt-zo...   \n",
       "61            mheidj  https://elemental.medium.com/kids-are-staring-...   \n",
       "69  stroudjournalism  https://onezero.medium.com/ceo-of-surveillance...   \n",
       "93        simon_pitt  https://onezero.medium.com/zoom-is-a-nightmare...   \n",
       "97           felsull  https://humanparts.medium.com/blue-ruin-ab4b6d...   \n",
       "\n",
       "                   domain                                                tag  \\\n",
       "25     onezero.medium.com  [video-conferencing, digital-life, culture, zo...   \n",
       "61   elemental.medium.com    [health, science, brain, parenting, technology]   \n",
       "69     onezero.medium.com  [surveillance, privacy, technology, racism, si...   \n",
       "93     onezero.medium.com  [zoom, video-conferencing, digital-life, techn...   \n",
       "97  humanparts.medium.com  [fiction, dystopia, internet, technology, cult...   \n",
       "\n",
       "   claps  numclaps  \n",
       "25  1.2K      1200  \n",
       "61   508       508  \n",
       "69  2.9K      2900  \n",
       "93   23K     23000  \n",
       "97  1.3K      1300  "
      ]
     },
     "execution_count": 37,
     "metadata": {},
     "output_type": "execute_result"
    }
   ],
   "source": [
    "df_tech = df[df.tag.apply(lambda x: \"technology\" in x)]\n",
    "df_tech.head()"
   ]
  },
  {
   "cell_type": "code",
   "execution_count": 42,
   "metadata": {},
   "outputs": [],
   "source": [
    "tech_tags = []\n",
    "for r,n in zip(df_tech.tag, df_tech.numclaps):\n",
    "    tech_tags.extend(r * n)"
   ]
  },
  {
   "cell_type": "code",
   "execution_count": 43,
   "metadata": {},
   "outputs": [
    {
     "data": {
      "text/plain": [
       "[('technology', 148447),\n",
       " ('digital-life', 43100),\n",
       " ('startup', 25900),\n",
       " ('video-conferencing', 24200),\n",
       " ('zoom', 24200),\n",
       " ('data-science', 23500),\n",
       " ('remote-working', 23000),\n",
       " ('artificial-intelligence', 22106),\n",
       " ('industry', 21900),\n",
       " ('programming', 16282)]"
      ]
     },
     "execution_count": 43,
     "metadata": {},
     "output_type": "execute_result"
    }
   ],
   "source": [
    "c_tech = Counter(tech_tags)\n",
    "c_tech.most_common(10)"
   ]
  },
  {
   "cell_type": "code",
   "execution_count": 201,
   "metadata": {},
   "outputs": [],
   "source": [
    "def get_sorted_tags(df, weight=None):\n",
    "    tags = []\n",
    "    if weight is not None:\n",
    "        for r,n in zip(df.tag, df[weight]):\n",
    "            tags.extend(r * n)\n",
    "    else:\n",
    "        for r in df.tag:\n",
    "            tags.extend(r)\n",
    "    c = Counter(tags)\n",
    "    return c"
   ]
  },
  {
   "cell_type": "code",
   "execution_count": 2,
   "metadata": {},
   "outputs": [],
   "source": [
    "popular_tags = \"technology\", \"startup\", \"data-science\", \"artificial-intelligence\", \"programming\""
   ]
  },
  {
   "cell_type": "code",
   "execution_count": 2,
   "metadata": {},
   "outputs": [],
   "source": [
    "day = \"29\"\n",
    "month = \"05\"\n",
    "year = \"2020\"\n",
    "tag = \"technology\"\n",
    "url = f\"https://medium.com/tag/{tag}/archive/{year}/{month}/{day}\""
   ]
  },
  {
   "cell_type": "code",
   "execution_count": null,
   "metadata": {},
   "outputs": [],
   "source": [
    "r = requests.get(url)"
   ]
  },
  {
   "cell_type": "code",
   "execution_count": 63,
   "metadata": {},
   "outputs": [],
   "source": [
    "soup = BeautifulSoup(r.content)"
   ]
  },
  {
   "cell_type": "code",
   "execution_count": 67,
   "metadata": {},
   "outputs": [
    {
     "data": {
      "text/plain": [
       "[]"
      ]
     },
     "execution_count": 67,
     "metadata": {},
     "output_type": "execute_result"
    }
   ],
   "source": [
    "soup.find_all('div', class_=\"postArticle\")"
   ]
  },
  {
   "cell_type": "markdown",
   "metadata": {},
   "source": [
    "# https://github.com/collindching/Maximizing-Medium-Claps"
   ]
  },
  {
   "cell_type": "code",
   "execution_count": 3,
   "metadata": {},
   "outputs": [],
   "source": [
    "from selenium import webdriver\n",
    "from selenium.webdriver.common.keys import Keys\n",
    "from selenium.webdriver.chrome.options import Options\n",
    "\n",
    "options = Options()\n",
    "options.add_argument('--headless')\n",
    "options.add_argument('--disable-gpu')  # Last I checked this was necessary."
   ]
  },
  {
   "cell_type": "code",
   "execution_count": 264,
   "metadata": {},
   "outputs": [],
   "source": [
    "url = f\"https://medium.com/tag/artificial-intelligence/archive/2020/01/01\"\n",
    "driver = webdriver.Chrome(options=options)\n",
    "driver.get(url)\n",
    "soup = BeautifulSoup(driver.page_source)"
   ]
  },
  {
   "cell_type": "code",
   "execution_count": 4,
   "metadata": {},
   "outputs": [],
   "source": [
    "def scrap_archive(soup):\n",
    "    authors = []\n",
    "    publications = []\n",
    "    titles = []\n",
    "    read_times = []\n",
    "    claps = []\n",
    "    dates = []\n",
    "    links = []\n",
    "\n",
    "    article_cards = soup.find_all('div',{'class': 'postArticle'})\n",
    "\n",
    "    for card in article_cards:\n",
    "        # Authors\n",
    "        try:\n",
    "            _author = card.select('a.ds-link')[0].text\n",
    "        except:\n",
    "            _author = None\n",
    "\n",
    "        # Publications\n",
    "        published_by_soup = card.select('a.ds-link')\n",
    "\n",
    "        if len(published_by_soup) == 1:\n",
    "            _publication = None\n",
    "        else:\n",
    "            _publication = published_by_soup[1].text\n",
    "\n",
    "        # Links\n",
    "        try:\n",
    "            _link = card.find('div', {'class': 'postArticle-content'}).parent['href']\n",
    "        except:\n",
    "            _link = None\n",
    "\n",
    "        # Titles\n",
    "        title_soup = card.find('h3')\n",
    "\n",
    "        if title_soup is None:\n",
    "            title_soup = card.find('h4')\n",
    "\n",
    "            if title_soup is not None:\n",
    "                _title = title_soup.text\n",
    "            else:\n",
    "                _title = None\n",
    "        else:\n",
    "            _title = title_soup.text\n",
    "\n",
    "        # Read times\n",
    "        read_time_soup = card.find('span', {'class': 'readingTime'})\n",
    "        if read_time_soup is not None:\n",
    "            _read_time = int(read_time_soup['title'].replace(\" min read\",\"\"))\n",
    "        else:\n",
    "            _read_time = None\n",
    "\n",
    "        # Claps\n",
    "        clap_soup = card.find('button',{'data-action':'show-recommends'})\n",
    "\n",
    "        # no claps\n",
    "        if clap_soup is None:\n",
    "            _clap = 0\n",
    "        # >1k claps\n",
    "        elif 'K' in clap_soup.text:\n",
    "            _clap = int(float(clap_soup.text.replace('K',''))*1000)\n",
    "        # normal case\n",
    "        else:\n",
    "            _clap = int(clap_soup.text)\n",
    "\n",
    "        # Dates\n",
    "        try:\n",
    "            _date = datetime.datetime.strptime(card.find('time')['datetime'], '%Y-%m-%dT%H:%M:%S.%f%z')\n",
    "        except:\n",
    "            _date = None\n",
    "\n",
    "        if _author is not None and\\\n",
    "                _publication is not None and\\\n",
    "                _title is not None and\\\n",
    "                _read_time is not None and\\\n",
    "                _clap is not None and\\\n",
    "                _date is not None and\\\n",
    "                _link is not None:\n",
    "            authors.append(_author)\n",
    "            publications.append(_publication)\n",
    "            titles.append(_title)\n",
    "            read_times.append(_read_time)\n",
    "            claps.append(_clap)\n",
    "            dates.append(_date)\n",
    "            links.append(_link)\n",
    "\n",
    "    titles = [x.replace('\\xa0',' ').replace('\\u200a—\\u200a','--').replace('--', ' — ') for x in titles]              \n",
    "\n",
    "\n",
    "    archive_data = {\n",
    "        'author': authors,\n",
    "        'publication': publications,\n",
    "        'title': titles,\n",
    "        'read_time': read_times,\n",
    "        'num_clap': claps,\n",
    "        'date': dates,\n",
    "        'url': links\n",
    "    }\n",
    "\n",
    "    return archive_data"
   ]
  },
  {
   "cell_type": "code",
   "execution_count": 5,
   "metadata": {},
   "outputs": [],
   "source": [
    "def scrap_article(soup):\n",
    "    try:\n",
    "        tags = []\n",
    "        tags = [x.text for x in soup.find_all(\"a\", href=re.compile(\"^/tag\\w*/(.*)\"))]\n",
    "        if len(tags) == 0:\n",
    "            return 'None'\n",
    "        else:\n",
    "            return tags\n",
    "\n",
    "    except:\n",
    "        print(\"Couldn't get article tags.\")"
   ]
  },
  {
   "cell_type": "code",
   "execution_count": 286,
   "metadata": {},
   "outputs": [],
   "source": [
    "data = scrap_archive(soup)"
   ]
  },
  {
   "cell_type": "code",
   "execution_count": 206,
   "metadata": {},
   "outputs": [
    {
     "data": {
      "text/html": [
       "<div>\n",
       "<style scoped>\n",
       "    .dataframe tbody tr th:only-of-type {\n",
       "        vertical-align: middle;\n",
       "    }\n",
       "\n",
       "    .dataframe tbody tr th {\n",
       "        vertical-align: top;\n",
       "    }\n",
       "\n",
       "    .dataframe thead th {\n",
       "        text-align: right;\n",
       "    }\n",
       "</style>\n",
       "<table border=\"1\" class=\"dataframe\">\n",
       "  <thead>\n",
       "    <tr style=\"text-align: right;\">\n",
       "      <th></th>\n",
       "      <th>author</th>\n",
       "      <th>publication</th>\n",
       "      <th>title</th>\n",
       "      <th>read_time</th>\n",
       "      <th>num_clap</th>\n",
       "      <th>date</th>\n",
       "      <th>url</th>\n",
       "    </tr>\n",
       "  </thead>\n",
       "  <tbody>\n",
       "    <tr>\n",
       "      <th>0</th>\n",
       "      <td>Georgina Quach</td>\n",
       "      <td>OneZero</td>\n",
       "      <td>Vietnam’s Coronavirus Death Toll Is Zero. The ...</td>\n",
       "      <td>7</td>\n",
       "      <td>107</td>\n",
       "      <td>2020-05-29 13:12:27.678000+00:00</td>\n",
       "      <td>https://onezero.medium.com/vietnams-coronaviru...</td>\n",
       "    </tr>\n",
       "    <tr>\n",
       "      <th>1</th>\n",
       "      <td>David Miracle</td>\n",
       "      <td>The Startup</td>\n",
       "      <td>The end of the resume? Hiring is in the midst ...</td>\n",
       "      <td>8</td>\n",
       "      <td>52</td>\n",
       "      <td>2020-05-29 04:41:00.881000+00:00</td>\n",
       "      <td>https://medium.com/swlh/the-end-of-the-resume-...</td>\n",
       "    </tr>\n",
       "    <tr>\n",
       "      <th>2</th>\n",
       "      <td>Dmitry Chikhachev</td>\n",
       "      <td>Runa Capital | Writings</td>\n",
       "      <td>ECWID Story: Perfection, Drive and Emotion</td>\n",
       "      <td>10</td>\n",
       "      <td>92</td>\n",
       "      <td>2020-05-29 10:47:10.462000+00:00</td>\n",
       "      <td>https://medium.com/runacapital/ecwid-story-per...</td>\n",
       "    </tr>\n",
       "    <tr>\n",
       "      <th>3</th>\n",
       "      <td>James Briggs</td>\n",
       "      <td>Towards Data Science</td>\n",
       "      <td>Automate Email with Python</td>\n",
       "      <td>6</td>\n",
       "      <td>42</td>\n",
       "      <td>2020-05-29 16:11:08.036000+00:00</td>\n",
       "      <td>https://towardsdatascience.com/automate-email-...</td>\n",
       "    </tr>\n",
       "    <tr>\n",
       "      <th>4</th>\n",
       "      <td>Insolar Team</td>\n",
       "      <td>Insolar</td>\n",
       "      <td>KuCoin to support XNS Fixed Staking</td>\n",
       "      <td>1</td>\n",
       "      <td>12</td>\n",
       "      <td>2020-05-29 10:19:30.629000+00:00</td>\n",
       "      <td>https://medium.com/insolar/kucoin-to-support-x...</td>\n",
       "    </tr>\n",
       "  </tbody>\n",
       "</table>\n",
       "</div>"
      ],
      "text/plain": [
       "              author              publication  \\\n",
       "0     Georgina Quach                  OneZero   \n",
       "1      David Miracle              The Startup   \n",
       "2  Dmitry Chikhachev  Runa Capital | Writings   \n",
       "3       James Briggs     Towards Data Science   \n",
       "4       Insolar Team                  Insolar   \n",
       "\n",
       "                                               title  read_time  num_clap  \\\n",
       "0  Vietnam’s Coronavirus Death Toll Is Zero. The ...          7       107   \n",
       "1  The end of the resume? Hiring is in the midst ...          8        52   \n",
       "2         ECWID Story: Perfection, Drive and Emotion         10        92   \n",
       "3                         Automate Email with Python          6        42   \n",
       "4                KuCoin to support XNS Fixed Staking          1        12   \n",
       "\n",
       "                              date  \\\n",
       "0 2020-05-29 13:12:27.678000+00:00   \n",
       "1 2020-05-29 04:41:00.881000+00:00   \n",
       "2 2020-05-29 10:47:10.462000+00:00   \n",
       "3 2020-05-29 16:11:08.036000+00:00   \n",
       "4 2020-05-29 10:19:30.629000+00:00   \n",
       "\n",
       "                                                 url  \n",
       "0  https://onezero.medium.com/vietnams-coronaviru...  \n",
       "1  https://medium.com/swlh/the-end-of-the-resume-...  \n",
       "2  https://medium.com/runacapital/ecwid-story-per...  \n",
       "3  https://towardsdatascience.com/automate-email-...  \n",
       "4  https://medium.com/insolar/kucoin-to-support-x...  "
      ]
     },
     "execution_count": 206,
     "metadata": {},
     "output_type": "execute_result"
    }
   ],
   "source": [
    "df = pd.DataFrame(data)\n",
    "df.head()"
   ]
  },
  {
   "cell_type": "code",
   "execution_count": 6,
   "metadata": {},
   "outputs": [],
   "source": [
    "def get_tags(url):\n",
    "    r = requests.get(url)\n",
    "    s = BeautifulSoup(r.content)\n",
    "    return scrap_article(s)"
   ]
  },
  {
   "cell_type": "code",
   "execution_count": 208,
   "metadata": {},
   "outputs": [],
   "source": [
    "pool = Pool(16)\n",
    "df['tag'] = pool.map(get_tags, df.url)\n",
    "pool.close()\n",
    "pool.join()"
   ]
  },
  {
   "cell_type": "code",
   "execution_count": 209,
   "metadata": {},
   "outputs": [
    {
     "data": {
      "text/html": [
       "<div>\n",
       "<style scoped>\n",
       "    .dataframe tbody tr th:only-of-type {\n",
       "        vertical-align: middle;\n",
       "    }\n",
       "\n",
       "    .dataframe tbody tr th {\n",
       "        vertical-align: top;\n",
       "    }\n",
       "\n",
       "    .dataframe thead th {\n",
       "        text-align: right;\n",
       "    }\n",
       "</style>\n",
       "<table border=\"1\" class=\"dataframe\">\n",
       "  <thead>\n",
       "    <tr style=\"text-align: right;\">\n",
       "      <th></th>\n",
       "      <th>author</th>\n",
       "      <th>publication</th>\n",
       "      <th>title</th>\n",
       "      <th>read_time</th>\n",
       "      <th>num_clap</th>\n",
       "      <th>date</th>\n",
       "      <th>url</th>\n",
       "      <th>tag</th>\n",
       "    </tr>\n",
       "  </thead>\n",
       "  <tbody>\n",
       "    <tr>\n",
       "      <th>0</th>\n",
       "      <td>Georgina Quach</td>\n",
       "      <td>OneZero</td>\n",
       "      <td>Vietnam’s Coronavirus Death Toll Is Zero. The ...</td>\n",
       "      <td>7</td>\n",
       "      <td>107</td>\n",
       "      <td>2020-05-29 13:12:27.678000+00:00</td>\n",
       "      <td>https://onezero.medium.com/vietnams-coronaviru...</td>\n",
       "      <td>[Vietnam, Coronavirus, Surveillance, Technolog...</td>\n",
       "    </tr>\n",
       "    <tr>\n",
       "      <th>1</th>\n",
       "      <td>David Miracle</td>\n",
       "      <td>The Startup</td>\n",
       "      <td>The end of the resume? Hiring is in the midst ...</td>\n",
       "      <td>8</td>\n",
       "      <td>52</td>\n",
       "      <td>2020-05-29 04:41:00.881000+00:00</td>\n",
       "      <td>https://medium.com/swlh/the-end-of-the-resume-...</td>\n",
       "      <td>[Employment, Technology, Jobs, Work, Artificia...</td>\n",
       "    </tr>\n",
       "    <tr>\n",
       "      <th>2</th>\n",
       "      <td>Dmitry Chikhachev</td>\n",
       "      <td>Runa Capital | Writings</td>\n",
       "      <td>ECWID Story: Perfection, Drive and Emotion</td>\n",
       "      <td>10</td>\n",
       "      <td>92</td>\n",
       "      <td>2020-05-29 10:47:10.462000+00:00</td>\n",
       "      <td>https://medium.com/runacapital/ecwid-story-per...</td>\n",
       "      <td>[Venture Capital, Exit, Startup, Technology, F...</td>\n",
       "    </tr>\n",
       "    <tr>\n",
       "      <th>3</th>\n",
       "      <td>James Briggs</td>\n",
       "      <td>Towards Data Science</td>\n",
       "      <td>Automate Email with Python</td>\n",
       "      <td>6</td>\n",
       "      <td>42</td>\n",
       "      <td>2020-05-29 16:11:08.036000+00:00</td>\n",
       "      <td>https://towardsdatascience.com/automate-email-...</td>\n",
       "      <td>[Technology, Python, Programming, Automation, ...</td>\n",
       "    </tr>\n",
       "    <tr>\n",
       "      <th>4</th>\n",
       "      <td>Insolar Team</td>\n",
       "      <td>Insolar</td>\n",
       "      <td>KuCoin to support XNS Fixed Staking</td>\n",
       "      <td>1</td>\n",
       "      <td>12</td>\n",
       "      <td>2020-05-29 10:19:30.629000+00:00</td>\n",
       "      <td>https://medium.com/insolar/kucoin-to-support-x...</td>\n",
       "      <td>[Staking, News, Blockchain, Assured Ledger, Te...</td>\n",
       "    </tr>\n",
       "  </tbody>\n",
       "</table>\n",
       "</div>"
      ],
      "text/plain": [
       "              author              publication  \\\n",
       "0     Georgina Quach                  OneZero   \n",
       "1      David Miracle              The Startup   \n",
       "2  Dmitry Chikhachev  Runa Capital | Writings   \n",
       "3       James Briggs     Towards Data Science   \n",
       "4       Insolar Team                  Insolar   \n",
       "\n",
       "                                               title  read_time  num_clap  \\\n",
       "0  Vietnam’s Coronavirus Death Toll Is Zero. The ...          7       107   \n",
       "1  The end of the resume? Hiring is in the midst ...          8        52   \n",
       "2         ECWID Story: Perfection, Drive and Emotion         10        92   \n",
       "3                         Automate Email with Python          6        42   \n",
       "4                KuCoin to support XNS Fixed Staking          1        12   \n",
       "\n",
       "                              date  \\\n",
       "0 2020-05-29 13:12:27.678000+00:00   \n",
       "1 2020-05-29 04:41:00.881000+00:00   \n",
       "2 2020-05-29 10:47:10.462000+00:00   \n",
       "3 2020-05-29 16:11:08.036000+00:00   \n",
       "4 2020-05-29 10:19:30.629000+00:00   \n",
       "\n",
       "                                                 url  \\\n",
       "0  https://onezero.medium.com/vietnams-coronaviru...   \n",
       "1  https://medium.com/swlh/the-end-of-the-resume-...   \n",
       "2  https://medium.com/runacapital/ecwid-story-per...   \n",
       "3  https://towardsdatascience.com/automate-email-...   \n",
       "4  https://medium.com/insolar/kucoin-to-support-x...   \n",
       "\n",
       "                                                 tag  \n",
       "0  [Vietnam, Coronavirus, Surveillance, Technolog...  \n",
       "1  [Employment, Technology, Jobs, Work, Artificia...  \n",
       "2  [Venture Capital, Exit, Startup, Technology, F...  \n",
       "3  [Technology, Python, Programming, Automation, ...  \n",
       "4  [Staking, News, Blockchain, Assured Ledger, Te...  "
      ]
     },
     "execution_count": 209,
     "metadata": {},
     "output_type": "execute_result"
    }
   ],
   "source": [
    "df.head()"
   ]
  },
  {
   "cell_type": "code",
   "execution_count": 213,
   "metadata": {},
   "outputs": [
    {
     "data": {
      "text/plain": [
       "[('Technology', 1044),\n",
       " ('Startup', 158),\n",
       " ('Programming', 121),\n",
       " ('Artificial Intelligence', 88),\n",
       " ('Tech', 82),\n",
       " ('Software Development', 80),\n",
       " ('Television', 76),\n",
       " ('Data Science', 63),\n",
       " ('Entrepreneurship', 62),\n",
       " ('Web Development', 57),\n",
       " ('Science', 56),\n",
       " ('JavaScript', 45),\n",
       " ('Business', 41),\n",
       " ('Writing', 40),\n",
       " ('Social Media', 38),\n",
       " ('Politics', 38),\n",
       " ('Blockchain', 34),\n",
       " ('Philosophy', 34),\n",
       " ('Software Engineering', 34),\n",
       " ('Machine Learning', 32)]"
      ]
     },
     "execution_count": 213,
     "metadata": {},
     "output_type": "execute_result"
    }
   ],
   "source": [
    "c = get_sorted_tags(df, weight=\"read_time\")\n",
    "c.most_common(20)"
   ]
  },
  {
   "cell_type": "code",
   "execution_count": 214,
   "metadata": {},
   "outputs": [
    {
     "data": {
      "text/plain": [
       "[('Technology', 7260),\n",
       " ('Writing', 2226),\n",
       " ('Entrepreneurship', 1956),\n",
       " ('Philosophy', 1899),\n",
       " ('Programming', 1743),\n",
       " ('Pschology', 1526),\n",
       " ('Software Development', 1398),\n",
       " ('Web Development', 1284),\n",
       " ('JavaScript', 1170),\n",
       " ('Startup', 1027),\n",
       " ('React Native', 799),\n",
       " ('React Native Development', 799),\n",
       " ('React Native Developers', 799),\n",
       " ('Tech', 721),\n",
       " ('Design Thinking', 700),\n",
       " ('Finance', 440),\n",
       " ('User Experience', 418),\n",
       " ('Self', 405),\n",
       " ('Digital', 355),\n",
       " ('Design', 335)]"
      ]
     },
     "execution_count": 214,
     "metadata": {},
     "output_type": "execute_result"
    }
   ],
   "source": [
    "c = get_sorted_tags(df, weight=\"num_clap\")\n",
    "c.most_common(20)"
   ]
  },
  {
   "cell_type": "code",
   "execution_count": 215,
   "metadata": {},
   "outputs": [
    {
     "data": {
      "text/plain": [
       "[('Technology', 199),\n",
       " ('Startup', 25),\n",
       " ('Programming', 24),\n",
       " ('Software Development', 17),\n",
       " ('Web Development', 14),\n",
       " ('Tech', 13),\n",
       " ('Television', 13),\n",
       " ('Artificial Intelligence', 12),\n",
       " ('Data Science', 11),\n",
       " ('JavaScript', 11),\n",
       " ('Politics', 11),\n",
       " ('Science', 9),\n",
       " ('Covid 19', 9),\n",
       " ('Blockchain', 7),\n",
       " ('Entrepreneurship', 7),\n",
       " ('Business', 7),\n",
       " ('Social Media', 7),\n",
       " ('Education', 6),\n",
       " ('Machine Learning', 6),\n",
       " ('Python', 5)]"
      ]
     },
     "execution_count": 215,
     "metadata": {},
     "output_type": "execute_result"
    }
   ],
   "source": [
    "c = get_sorted_tags(df)\n",
    "c.most_common(20)"
   ]
  },
  {
   "cell_type": "code",
   "execution_count": 7,
   "metadata": {},
   "outputs": [],
   "source": [
    "def scrap(tag, day, month, year, nb_iter=0):\n",
    "    df = None\n",
    "    try:\n",
    "        url = f\"https://medium.com/tag/{tag}/archive/{year}/{month}/{day}\"\n",
    "        driver = webdriver.Chrome(options=options)\n",
    "        driver.get(url)\n",
    "        soup = BeautifulSoup(driver.page_source)\n",
    "        try:\n",
    "            data = scrap_archive(soup)\n",
    "        except:\n",
    "            print(url)\n",
    "            raise\n",
    "        df = pd.DataFrame(data)\n",
    "        pool = Pool(16)\n",
    "        df['tag'] = pool.map(get_tags, df.url)\n",
    "        pool.close()\n",
    "        pool.join()\n",
    "    except:\n",
    "        if nb_iter < 2:\n",
    "            time.sleep(np.random.randint(5) + 1)\n",
    "            return scrap(tag, day, month, year, nb_iter + 1)\n",
    "        else:\n",
    "            raise\n",
    "            return None\n",
    "    \n",
    "    return df"
   ]
  },
  {
   "cell_type": "code",
   "execution_count": 17,
   "metadata": {},
   "outputs": [
    {
     "ename": "ConnectionError",
     "evalue": "('Connection aborted.', RemoteDisconnected('Remote end closed connection without response'))",
     "output_type": "error",
     "traceback": [
      "\u001b[0;31m---------------------------------------------------------------------------\u001b[0m",
      "\u001b[0;31mRemoteTraceback\u001b[0m                           Traceback (most recent call last)",
      "\u001b[0;31mRemoteTraceback\u001b[0m: \n\"\"\"\nTraceback (most recent call last):\n  File \"/home/guillaume/miniconda3/envs/medium/lib/python3.7/site-packages/urllib3/connectionpool.py\", line 677, in urlopen\n    chunked=chunked,\n  File \"/home/guillaume/miniconda3/envs/medium/lib/python3.7/site-packages/urllib3/connectionpool.py\", line 426, in _make_request\n    six.raise_from(e, None)\n  File \"<string>\", line 3, in raise_from\n  File \"/home/guillaume/miniconda3/envs/medium/lib/python3.7/site-packages/urllib3/connectionpool.py\", line 421, in _make_request\n    httplib_response = conn.getresponse()\n  File \"/home/guillaume/miniconda3/envs/medium/lib/python3.7/http/client.py\", line 1344, in getresponse\n    response.begin()\n  File \"/home/guillaume/miniconda3/envs/medium/lib/python3.7/http/client.py\", line 306, in begin\n    version, status, reason = self._read_status()\n  File \"/home/guillaume/miniconda3/envs/medium/lib/python3.7/http/client.py\", line 275, in _read_status\n    raise RemoteDisconnected(\"Remote end closed connection without\"\nhttp.client.RemoteDisconnected: Remote end closed connection without response\n\nDuring handling of the above exception, another exception occurred:\n\nTraceback (most recent call last):\n  File \"/home/guillaume/miniconda3/envs/medium/lib/python3.7/site-packages/requests/adapters.py\", line 449, in send\n    timeout=timeout\n  File \"/home/guillaume/miniconda3/envs/medium/lib/python3.7/site-packages/urllib3/connectionpool.py\", line 725, in urlopen\n    method, url, error=e, _pool=self, _stacktrace=sys.exc_info()[2]\n  File \"/home/guillaume/miniconda3/envs/medium/lib/python3.7/site-packages/urllib3/util/retry.py\", line 403, in increment\n    raise six.reraise(type(error), error, _stacktrace)\n  File \"/home/guillaume/miniconda3/envs/medium/lib/python3.7/site-packages/urllib3/packages/six.py\", line 734, in reraise\n    raise value.with_traceback(tb)\n  File \"/home/guillaume/miniconda3/envs/medium/lib/python3.7/site-packages/urllib3/connectionpool.py\", line 677, in urlopen\n    chunked=chunked,\n  File \"/home/guillaume/miniconda3/envs/medium/lib/python3.7/site-packages/urllib3/connectionpool.py\", line 426, in _make_request\n    six.raise_from(e, None)\n  File \"<string>\", line 3, in raise_from\n  File \"/home/guillaume/miniconda3/envs/medium/lib/python3.7/site-packages/urllib3/connectionpool.py\", line 421, in _make_request\n    httplib_response = conn.getresponse()\n  File \"/home/guillaume/miniconda3/envs/medium/lib/python3.7/http/client.py\", line 1344, in getresponse\n    response.begin()\n  File \"/home/guillaume/miniconda3/envs/medium/lib/python3.7/http/client.py\", line 306, in begin\n    version, status, reason = self._read_status()\n  File \"/home/guillaume/miniconda3/envs/medium/lib/python3.7/http/client.py\", line 275, in _read_status\n    raise RemoteDisconnected(\"Remote end closed connection without\"\nurllib3.exceptions.ProtocolError: ('Connection aborted.', RemoteDisconnected('Remote end closed connection without response'))\n\nDuring handling of the above exception, another exception occurred:\n\nTraceback (most recent call last):\n  File \"/home/guillaume/miniconda3/envs/medium/lib/python3.7/multiprocessing/pool.py\", line 121, in worker\n    result = (True, func(*args, **kwds))\n  File \"/home/guillaume/miniconda3/envs/medium/lib/python3.7/multiprocessing/pool.py\", line 44, in mapstar\n    return list(map(*args))\n  File \"<ipython-input-6-24ac65fbd228>\", line 2, in get_tags\n    r = requests.get(url)\n  File \"/home/guillaume/miniconda3/envs/medium/lib/python3.7/site-packages/requests/api.py\", line 75, in get\n    return request('get', url, params=params, **kwargs)\n  File \"/home/guillaume/miniconda3/envs/medium/lib/python3.7/site-packages/requests/api.py\", line 60, in request\n    return session.request(method=method, url=url, **kwargs)\n  File \"/home/guillaume/miniconda3/envs/medium/lib/python3.7/site-packages/requests/sessions.py\", line 533, in request\n    resp = self.send(prep, **send_kwargs)\n  File \"/home/guillaume/miniconda3/envs/medium/lib/python3.7/site-packages/requests/sessions.py\", line 646, in send\n    r = adapter.send(request, **kwargs)\n  File \"/home/guillaume/miniconda3/envs/medium/lib/python3.7/site-packages/requests/adapters.py\", line 498, in send\n    raise ConnectionError(err, request=request)\nrequests.exceptions.ConnectionError: ('Connection aborted.', RemoteDisconnected('Remote end closed connection without response'))\n\"\"\"",
      "\nThe above exception was the direct cause of the following exception:\n",
      "\u001b[0;31mConnectionError\u001b[0m                           Traceback (most recent call last)",
      "\u001b[0;32m<ipython-input-17-db29d20b92b4>\u001b[0m in \u001b[0;36m<module>\u001b[0;34m\u001b[0m\n\u001b[1;32m     10\u001b[0m             \u001b[0mday\u001b[0m \u001b[0;34m=\u001b[0m \u001b[0;34mf\"{d + 1:02d}\"\u001b[0m\u001b[0;34m\u001b[0m\u001b[0;34m\u001b[0m\u001b[0m\n\u001b[1;32m     11\u001b[0m             \u001b[0;32mif\u001b[0m \u001b[0mdatetime\u001b[0m\u001b[0;34m.\u001b[0m\u001b[0mdatetime\u001b[0m\u001b[0;34m(\u001b[0m\u001b[0;36m2020\u001b[0m\u001b[0;34m,\u001b[0m \u001b[0mm\u001b[0m \u001b[0;34m+\u001b[0m \u001b[0;36m1\u001b[0m\u001b[0;34m,\u001b[0m \u001b[0md\u001b[0m \u001b[0;34m+\u001b[0m \u001b[0;36m1\u001b[0m\u001b[0;34m)\u001b[0m \u001b[0;34m<=\u001b[0m \u001b[0mdatetime\u001b[0m\u001b[0;34m.\u001b[0m\u001b[0mdatetime\u001b[0m\u001b[0;34m(\u001b[0m\u001b[0mnow\u001b[0m\u001b[0;34m.\u001b[0m\u001b[0myear\u001b[0m\u001b[0;34m,\u001b[0m \u001b[0mnow\u001b[0m\u001b[0;34m.\u001b[0m\u001b[0mmonth\u001b[0m\u001b[0;34m,\u001b[0m \u001b[0mnow\u001b[0m\u001b[0;34m.\u001b[0m\u001b[0mday\u001b[0m\u001b[0;34m)\u001b[0m\u001b[0;34m:\u001b[0m\u001b[0;34m\u001b[0m\u001b[0;34m\u001b[0m\u001b[0m\n\u001b[0;32m---> 12\u001b[0;31m                 \u001b[0mscrapped_data\u001b[0m \u001b[0;34m=\u001b[0m \u001b[0mscrap\u001b[0m\u001b[0;34m(\u001b[0m\u001b[0mtag\u001b[0m\u001b[0;34m,\u001b[0m \u001b[0mday\u001b[0m\u001b[0;34m,\u001b[0m \u001b[0mmonth\u001b[0m\u001b[0;34m,\u001b[0m \u001b[0;36m2020\u001b[0m\u001b[0;34m)\u001b[0m\u001b[0;34m\u001b[0m\u001b[0;34m\u001b[0m\u001b[0m\n\u001b[0m\u001b[1;32m     13\u001b[0m                 \u001b[0;32mif\u001b[0m \u001b[0mscrapped_data\u001b[0m \u001b[0;32mis\u001b[0m \u001b[0;32mnot\u001b[0m \u001b[0;32mNone\u001b[0m\u001b[0;34m:\u001b[0m\u001b[0;34m\u001b[0m\u001b[0;34m\u001b[0m\u001b[0m\n\u001b[1;32m     14\u001b[0m                     \u001b[0;32mif\u001b[0m \u001b[0mos\u001b[0m\u001b[0;34m.\u001b[0m\u001b[0mpath\u001b[0m\u001b[0;34m.\u001b[0m\u001b[0mexists\u001b[0m\u001b[0;34m(\u001b[0m\u001b[0mfilename\u001b[0m\u001b[0;34m)\u001b[0m\u001b[0;34m:\u001b[0m\u001b[0;34m\u001b[0m\u001b[0;34m\u001b[0m\u001b[0m\n",
      "\u001b[0;32m<ipython-input-7-e3a74175c5ab>\u001b[0m in \u001b[0;36mscrap\u001b[0;34m(tag, day, month, year, nb_iter)\u001b[0m\n\u001b[1;32m     19\u001b[0m         \u001b[0;32mif\u001b[0m \u001b[0mnb_iter\u001b[0m \u001b[0;34m<\u001b[0m \u001b[0;36m2\u001b[0m\u001b[0;34m:\u001b[0m\u001b[0;34m\u001b[0m\u001b[0;34m\u001b[0m\u001b[0m\n\u001b[1;32m     20\u001b[0m             \u001b[0mtime\u001b[0m\u001b[0;34m.\u001b[0m\u001b[0msleep\u001b[0m\u001b[0;34m(\u001b[0m\u001b[0mnp\u001b[0m\u001b[0;34m.\u001b[0m\u001b[0mrandom\u001b[0m\u001b[0;34m.\u001b[0m\u001b[0mrandint\u001b[0m\u001b[0;34m(\u001b[0m\u001b[0;36m5\u001b[0m\u001b[0;34m)\u001b[0m \u001b[0;34m+\u001b[0m \u001b[0;36m1\u001b[0m\u001b[0;34m)\u001b[0m\u001b[0;34m\u001b[0m\u001b[0;34m\u001b[0m\u001b[0m\n\u001b[0;32m---> 21\u001b[0;31m             \u001b[0;32mreturn\u001b[0m \u001b[0mscrap\u001b[0m\u001b[0;34m(\u001b[0m\u001b[0mtag\u001b[0m\u001b[0;34m,\u001b[0m \u001b[0mday\u001b[0m\u001b[0;34m,\u001b[0m \u001b[0mmonth\u001b[0m\u001b[0;34m,\u001b[0m \u001b[0myear\u001b[0m\u001b[0;34m,\u001b[0m \u001b[0mnb_iter\u001b[0m \u001b[0;34m+\u001b[0m \u001b[0;36m1\u001b[0m\u001b[0;34m)\u001b[0m\u001b[0;34m\u001b[0m\u001b[0;34m\u001b[0m\u001b[0m\n\u001b[0m\u001b[1;32m     22\u001b[0m         \u001b[0;32melse\u001b[0m\u001b[0;34m:\u001b[0m\u001b[0;34m\u001b[0m\u001b[0;34m\u001b[0m\u001b[0m\n\u001b[1;32m     23\u001b[0m             \u001b[0;32mraise\u001b[0m\u001b[0;34m\u001b[0m\u001b[0;34m\u001b[0m\u001b[0m\n",
      "\u001b[0;32m<ipython-input-7-e3a74175c5ab>\u001b[0m in \u001b[0;36mscrap\u001b[0;34m(tag, day, month, year, nb_iter)\u001b[0m\n\u001b[1;32m     19\u001b[0m         \u001b[0;32mif\u001b[0m \u001b[0mnb_iter\u001b[0m \u001b[0;34m<\u001b[0m \u001b[0;36m2\u001b[0m\u001b[0;34m:\u001b[0m\u001b[0;34m\u001b[0m\u001b[0;34m\u001b[0m\u001b[0m\n\u001b[1;32m     20\u001b[0m             \u001b[0mtime\u001b[0m\u001b[0;34m.\u001b[0m\u001b[0msleep\u001b[0m\u001b[0;34m(\u001b[0m\u001b[0mnp\u001b[0m\u001b[0;34m.\u001b[0m\u001b[0mrandom\u001b[0m\u001b[0;34m.\u001b[0m\u001b[0mrandint\u001b[0m\u001b[0;34m(\u001b[0m\u001b[0;36m5\u001b[0m\u001b[0;34m)\u001b[0m \u001b[0;34m+\u001b[0m \u001b[0;36m1\u001b[0m\u001b[0;34m)\u001b[0m\u001b[0;34m\u001b[0m\u001b[0;34m\u001b[0m\u001b[0m\n\u001b[0;32m---> 21\u001b[0;31m             \u001b[0;32mreturn\u001b[0m \u001b[0mscrap\u001b[0m\u001b[0;34m(\u001b[0m\u001b[0mtag\u001b[0m\u001b[0;34m,\u001b[0m \u001b[0mday\u001b[0m\u001b[0;34m,\u001b[0m \u001b[0mmonth\u001b[0m\u001b[0;34m,\u001b[0m \u001b[0myear\u001b[0m\u001b[0;34m,\u001b[0m \u001b[0mnb_iter\u001b[0m \u001b[0;34m+\u001b[0m \u001b[0;36m1\u001b[0m\u001b[0;34m)\u001b[0m\u001b[0;34m\u001b[0m\u001b[0;34m\u001b[0m\u001b[0m\n\u001b[0m\u001b[1;32m     22\u001b[0m         \u001b[0;32melse\u001b[0m\u001b[0;34m:\u001b[0m\u001b[0;34m\u001b[0m\u001b[0;34m\u001b[0m\u001b[0m\n\u001b[1;32m     23\u001b[0m             \u001b[0;32mraise\u001b[0m\u001b[0;34m\u001b[0m\u001b[0;34m\u001b[0m\u001b[0m\n",
      "\u001b[0;32m<ipython-input-7-e3a74175c5ab>\u001b[0m in \u001b[0;36mscrap\u001b[0;34m(tag, day, month, year, nb_iter)\u001b[0m\n\u001b[1;32m     13\u001b[0m         \u001b[0mdf\u001b[0m \u001b[0;34m=\u001b[0m \u001b[0mpd\u001b[0m\u001b[0;34m.\u001b[0m\u001b[0mDataFrame\u001b[0m\u001b[0;34m(\u001b[0m\u001b[0mdata\u001b[0m\u001b[0;34m)\u001b[0m\u001b[0;34m\u001b[0m\u001b[0;34m\u001b[0m\u001b[0m\n\u001b[1;32m     14\u001b[0m         \u001b[0mpool\u001b[0m \u001b[0;34m=\u001b[0m \u001b[0mPool\u001b[0m\u001b[0;34m(\u001b[0m\u001b[0;36m16\u001b[0m\u001b[0;34m)\u001b[0m\u001b[0;34m\u001b[0m\u001b[0;34m\u001b[0m\u001b[0m\n\u001b[0;32m---> 15\u001b[0;31m         \u001b[0mdf\u001b[0m\u001b[0;34m[\u001b[0m\u001b[0;34m'tag'\u001b[0m\u001b[0;34m]\u001b[0m \u001b[0;34m=\u001b[0m \u001b[0mpool\u001b[0m\u001b[0;34m.\u001b[0m\u001b[0mmap\u001b[0m\u001b[0;34m(\u001b[0m\u001b[0mget_tags\u001b[0m\u001b[0;34m,\u001b[0m \u001b[0mdf\u001b[0m\u001b[0;34m.\u001b[0m\u001b[0murl\u001b[0m\u001b[0;34m)\u001b[0m\u001b[0;34m\u001b[0m\u001b[0;34m\u001b[0m\u001b[0m\n\u001b[0m\u001b[1;32m     16\u001b[0m         \u001b[0mpool\u001b[0m\u001b[0;34m.\u001b[0m\u001b[0mclose\u001b[0m\u001b[0;34m(\u001b[0m\u001b[0;34m)\u001b[0m\u001b[0;34m\u001b[0m\u001b[0;34m\u001b[0m\u001b[0m\n\u001b[1;32m     17\u001b[0m         \u001b[0mpool\u001b[0m\u001b[0;34m.\u001b[0m\u001b[0mjoin\u001b[0m\u001b[0;34m(\u001b[0m\u001b[0;34m)\u001b[0m\u001b[0;34m\u001b[0m\u001b[0;34m\u001b[0m\u001b[0m\n",
      "\u001b[0;32m~/miniconda3/envs/medium/lib/python3.7/multiprocessing/pool.py\u001b[0m in \u001b[0;36mmap\u001b[0;34m(self, func, iterable, chunksize)\u001b[0m\n\u001b[1;32m    266\u001b[0m         \u001b[0;32min\u001b[0m \u001b[0ma\u001b[0m \u001b[0mlist\u001b[0m \u001b[0mthat\u001b[0m \u001b[0;32mis\u001b[0m \u001b[0mreturned\u001b[0m\u001b[0;34m.\u001b[0m\u001b[0;34m\u001b[0m\u001b[0;34m\u001b[0m\u001b[0m\n\u001b[1;32m    267\u001b[0m         '''\n\u001b[0;32m--> 268\u001b[0;31m         \u001b[0;32mreturn\u001b[0m \u001b[0mself\u001b[0m\u001b[0;34m.\u001b[0m\u001b[0m_map_async\u001b[0m\u001b[0;34m(\u001b[0m\u001b[0mfunc\u001b[0m\u001b[0;34m,\u001b[0m \u001b[0miterable\u001b[0m\u001b[0;34m,\u001b[0m \u001b[0mmapstar\u001b[0m\u001b[0;34m,\u001b[0m \u001b[0mchunksize\u001b[0m\u001b[0;34m)\u001b[0m\u001b[0;34m.\u001b[0m\u001b[0mget\u001b[0m\u001b[0;34m(\u001b[0m\u001b[0;34m)\u001b[0m\u001b[0;34m\u001b[0m\u001b[0;34m\u001b[0m\u001b[0m\n\u001b[0m\u001b[1;32m    269\u001b[0m \u001b[0;34m\u001b[0m\u001b[0m\n\u001b[1;32m    270\u001b[0m     \u001b[0;32mdef\u001b[0m \u001b[0mstarmap\u001b[0m\u001b[0;34m(\u001b[0m\u001b[0mself\u001b[0m\u001b[0;34m,\u001b[0m \u001b[0mfunc\u001b[0m\u001b[0;34m,\u001b[0m \u001b[0miterable\u001b[0m\u001b[0;34m,\u001b[0m \u001b[0mchunksize\u001b[0m\u001b[0;34m=\u001b[0m\u001b[0;32mNone\u001b[0m\u001b[0;34m)\u001b[0m\u001b[0;34m:\u001b[0m\u001b[0;34m\u001b[0m\u001b[0;34m\u001b[0m\u001b[0m\n",
      "\u001b[0;32m~/miniconda3/envs/medium/lib/python3.7/multiprocessing/pool.py\u001b[0m in \u001b[0;36mget\u001b[0;34m(self, timeout)\u001b[0m\n\u001b[1;32m    655\u001b[0m             \u001b[0;32mreturn\u001b[0m \u001b[0mself\u001b[0m\u001b[0;34m.\u001b[0m\u001b[0m_value\u001b[0m\u001b[0;34m\u001b[0m\u001b[0;34m\u001b[0m\u001b[0m\n\u001b[1;32m    656\u001b[0m         \u001b[0;32melse\u001b[0m\u001b[0;34m:\u001b[0m\u001b[0;34m\u001b[0m\u001b[0;34m\u001b[0m\u001b[0m\n\u001b[0;32m--> 657\u001b[0;31m             \u001b[0;32mraise\u001b[0m \u001b[0mself\u001b[0m\u001b[0;34m.\u001b[0m\u001b[0m_value\u001b[0m\u001b[0;34m\u001b[0m\u001b[0;34m\u001b[0m\u001b[0m\n\u001b[0m\u001b[1;32m    658\u001b[0m \u001b[0;34m\u001b[0m\u001b[0m\n\u001b[1;32m    659\u001b[0m     \u001b[0;32mdef\u001b[0m \u001b[0m_set\u001b[0m\u001b[0;34m(\u001b[0m\u001b[0mself\u001b[0m\u001b[0;34m,\u001b[0m \u001b[0mi\u001b[0m\u001b[0;34m,\u001b[0m \u001b[0mobj\u001b[0m\u001b[0;34m)\u001b[0m\u001b[0;34m:\u001b[0m\u001b[0;34m\u001b[0m\u001b[0;34m\u001b[0m\u001b[0m\n",
      "\u001b[0;31mConnectionError\u001b[0m: ('Connection aborted.', RemoteDisconnected('Remote end closed connection without response'))"
     ]
    }
   ],
   "source": [
    "now = datetime.datetime.now()\n",
    "data = []\n",
    "fails = []\n",
    "filename = \"scrapped_data.pkl\"\n",
    "\n",
    "for tag in popular_tags:\n",
    "    for m in range(now.month):\n",
    "        month = f\"{m + 1:02d}\"\n",
    "        for d in range(monthrange(2020, m + 1)[1]):\n",
    "            day = f\"{d + 1:02d}\"\n",
    "            if datetime.datetime(2020, m + 1, d + 1) <= datetime.datetime(now.year, now.month, now.day):\n",
    "                scrapped_data = scrap(tag, day, month, 2020)                \n",
    "                if scrapped_data is not None:\n",
    "                    if os.path.exists(filename):\n",
    "                        df = pd.concat([pd.read_pickle(filename), scrapped_data], ignore_index=True)\n",
    "                    else:\n",
    "                        scrapped_data.to_pickle(filename)\n",
    "                    data.append(scrapped_data)\n",
    "                else:\n",
    "                    fails.append({'day': day, 'month': month, 'tag':tag})\n",
    "                time.sleep(np.random.randint(5) + 1)\n",
    "\n",
    "df = pd.concat(data)"
   ]
  },
  {
   "cell_type": "code",
   "execution_count": 260,
   "metadata": {},
   "outputs": [],
   "source": [
    "data = ArchiveScraper.scrap(soup)\n",
    "df = pd.DataFrame(data)\n",
    "pool = Pool(16)\n",
    "df['tag'] = pool.map(get_tags, df.url)\n",
    "pool.close()\n",
    "pool.join()"
   ]
  },
  {
   "cell_type": "code",
   "execution_count": null,
   "metadata": {},
   "outputs": [],
   "source": []
  }
 ],
 "metadata": {
  "kernelspec": {
   "display_name": "Python 3",
   "language": "python",
   "name": "python3"
  },
  "language_info": {
   "codemirror_mode": {
    "name": "ipython",
    "version": 3
   },
   "file_extension": ".py",
   "mimetype": "text/x-python",
   "name": "python",
   "nbconvert_exporter": "python",
   "pygments_lexer": "ipython3",
   "version": "3.7.7"
  }
 },
 "nbformat": 4,
 "nbformat_minor": 4
}
